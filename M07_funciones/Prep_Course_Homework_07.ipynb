{
 "cells": [
  {
   "attachments": {},
   "cell_type": "markdown",
   "metadata": {},
   "source": [
    "## Funciones"
   ]
  },
  {
   "attachments": {},
   "cell_type": "markdown",
   "metadata": {},
   "source": [
    "1) Crear una función que reciba un número como parámetro y devuelva True si es primo y False si no lo es"
   ]
  },
  {
   "cell_type": "code",
   "execution_count": 52,
   "metadata": {},
   "outputs": [
    {
     "data": {
      "text/plain": [
       "False"
      ]
     },
     "execution_count": 52,
     "metadata": {},
     "output_type": "execute_result"
    }
   ],
   "source": [
    "def verifica_primo (numero):\n",
    "    es_primo = True\n",
    "    for i in range(2,numero):\n",
    "      if numero % i ==0:\n",
    "        es_primo = False\n",
    "        return es_primo\n",
    "    return es_primo\n",
    "    \n",
    "    \n",
    "verifica_primo(12)"
   ]
  },
  {
   "attachments": {},
   "cell_type": "markdown",
   "metadata": {},
   "source": [
    "2) Utilizando la función del punto 1, realizar otra función que reciba de parámetro una lista de números y devuelva sólo aquellos que son primos en otra lista"
   ]
  },
  {
   "cell_type": "code",
   "execution_count": 57,
   "metadata": {},
   "outputs": [],
   "source": [
    "def separar_primos (lista):\n",
    "    lista_primos=[]\n",
    "    for i in lista:\n",
    "        if verifica_primo(int(i)):\n",
    "            lista_primos.append(i)\n",
    "    return lista_primos\n",
    "    "
   ]
  },
  {
   "cell_type": "code",
   "execution_count": 60,
   "metadata": {},
   "outputs": [
    {
     "data": {
      "text/plain": [
       "[1, 2, 3, 5, 19]"
      ]
     },
     "execution_count": 60,
     "metadata": {},
     "output_type": "execute_result"
    }
   ],
   "source": [
    "lista1=[1,2,3,5,6,9,12,15,14,19,20,25,27,30]\n",
    "lista_primos= separar_primos(lista1)\n",
    "lista_primos\n"
   ]
  },
  {
   "attachments": {},
   "cell_type": "markdown",
   "metadata": {},
   "source": [
    "3) Crear una función que al recibir una lista de números, devuelva el que más se repite y cuántas veces lo hace. Si hay más de un \"más repetido\", que devuelva cualquiera"
   ]
  },
  {
   "cell_type": "code",
   "execution_count": 7,
   "metadata": {},
   "outputs": [],
   "source": [
    "def numero_repetido(lista):\n",
    "    lista_unicos=[]\n",
    "    lista_repetidos=[]\n",
    "    if len(lista) == 0:\n",
    "        return None\n",
    "    for elemento in lista:\n",
    "        if elemento in lista_unicos:\n",
    "            i= lista_unicos.index(elemento)\n",
    "            lista_repetidos[i] += 1\n",
    "        else:\n",
    "            lista_unicos.append(elemento)\n",
    "            lista_repetidos.append(1)\n",
    "    numero_rep= lista_unicos[0]\n",
    "    cantidad_rep= lista_repetidos[0]\n",
    "    for i, elemento in enumerate(lista_unicos):\n",
    "        if lista_repetidos[i] > cantidad_rep:\n",
    "            numero_rep= lista_unicos[i]\n",
    "            cantidad_rep= lista_repetidos [i]\n",
    "            return numero_rep, cantidad_rep\n",
    "    \n",
    "        \n"
   ]
  },
  {
   "cell_type": "code",
   "execution_count": 8,
   "metadata": {},
   "outputs": [
    {
     "data": {
      "text/plain": [
       "(2, 3)"
      ]
     },
     "execution_count": 8,
     "metadata": {},
     "output_type": "execute_result"
    }
   ],
   "source": [
    "listarep= [1,2,3,5,2,8,7,6,5,2,4,7]\n",
    "numero_repetido (listarep)"
   ]
  },
  {
   "attachments": {},
   "cell_type": "markdown",
   "metadata": {},
   "source": [
    "4) Crear una función que convierta entre grados Celsius, Farenheit y Kelvin<br>\n",
    "Fórmula 1\t: (°C × 9/5) + 32 = °F<br>\n",
    "Fórmula 2\t: °C + 273.15 = °K<br>\n",
    "Debe recibir 3 parámetros: el valor, la medida de orígen y la medida de destino\n"
   ]
  },
  {
   "cell_type": "code",
   "execution_count": 33,
   "metadata": {},
   "outputs": [],
   "source": [
    "def convertidor_grados(valor, medida_origen, medida_destino):\n",
    "    if medida_origen == \"celsius\":\n",
    "        if medida_destino == \"celsius\":\n",
    "            valor_final= valor\n",
    "        elif medida_destino == \"farenheit\":\n",
    "            valor_final = (valor * 9/5) + 32\n",
    "        elif medida_destino == \"kelvin\":\n",
    "            valor_final =valor + 273.15 \n",
    "        else: \n",
    "            print (\"Parametro incorrecto\")\n",
    "    if medida_origen == \"farenheit\":\n",
    "        if medida_destino == \"farenheit\":\n",
    "            valor_final = valor\n",
    "        elif medida_destino == \"celsius\":\n",
    "            valor_final = (valor - 32) * 9/5\n",
    "        elif medida_destino == \"kelvin\":\n",
    "            valor_final= (valor - 32 * 9/5) + 273.15\n",
    "        else:\n",
    "            print (\"Parametro incorrecto\")\n",
    "    if medida_origen == \"kelvin\":\n",
    "        if medida_destino== \"kelvin\":\n",
    "            valor_final= valor\n",
    "        elif medida_destino == \"celsius\":\n",
    "            valor_final= valor - 273.15\n",
    "        elif medida_destino == \"farenheit\":\n",
    "            valor_final= (valor - 273.15 * 9/ 5 ) + 32\n",
    "        else:\n",
    "            print (\"Parametro incorrecto\")\n",
    "\n",
    "    return valor_final\n",
    "\n"
   ]
  },
  {
   "cell_type": "code",
   "execution_count": 36,
   "metadata": {},
   "outputs": [
    {
     "name": "stdout",
     "output_type": "stream",
     "text": [
      "50 º C son: 323.15 ºK\n",
      "7 ºF son: 222.54999999999998 ºk\n"
     ]
    }
   ],
   "source": [
    "print(\"50 º C son:\", convertidor_grados(50, \"celsius\", \"kelvin\") , \"ºK\")\n",
    "print(\"7 ºF son:\", convertidor_grados(7, \"farenheit\", \"kelvin\"), \"ºk\")"
   ]
  },
  {
   "attachments": {},
   "cell_type": "markdown",
   "metadata": {},
   "source": [
    "5) Iterando una lista con los tres valores posibles de temperatura que recibe la función del punto 5, hacer un print para cada combinación de los mismos:"
   ]
  },
  {
   "cell_type": "code",
   "execution_count": 38,
   "metadata": {},
   "outputs": [
    {
     "name": "stdout",
     "output_type": "stream",
     "text": [
      "10º celsius a celsius son : 10\n",
      "10º celsius a farenheit son : 50.0\n",
      "10º celsius a kelvin son : 283.15\n",
      "10º farenheit a celsius son : -39.6\n",
      "10º farenheit a farenheit son : 10\n",
      "10º farenheit a kelvin son : 225.54999999999998\n",
      "10º kelvin a celsius son : -263.15\n",
      "10º kelvin a farenheit son : -449.66999999999996\n",
      "10º kelvin a kelvin son : 10\n"
     ]
    }
   ],
   "source": [
    "valores_posibles= [\"celsius\", \"farenheit\", \"kelvin\"]\n",
    "\n",
    "for origen in range(0,3):\n",
    "    for destino in range(0,3):\n",
    "        print(\"10º\", valores_posibles [origen], \"a\", valores_posibles[destino],\"son :\", convertidor_grados(10,valores_posibles[origen], valores_posibles[destino]))"
   ]
  },
  {
   "attachments": {},
   "cell_type": "markdown",
   "metadata": {},
   "source": [
    "6) Armar una función que devuelva el factorial de un número. Tener en cuenta que el usuario puede equivocarse y enviar de parámetro un número no entero o negativo"
   ]
  },
  {
   "cell_type": "code",
   "execution_count": 98,
   "metadata": {},
   "outputs": [],
   "source": [
    "def factorial(numero):\n",
    "    if type(numero) != int:\n",
    "        return \"El número no es un entero\"\n",
    "    if numero < 0:\n",
    "        return \"El numero no es positivo\"\n",
    "    if numero <= 1:\n",
    "        return 1\n",
    "    \n",
    "    numero = numero * factorial(numero - 1)\n",
    "    return numero\n",
    "    \n",
    "   "
   ]
  },
  {
   "cell_type": "code",
   "execution_count": 99,
   "metadata": {},
   "outputs": [
    {
     "name": "stdout",
     "output_type": "stream",
     "text": [
      "1\n",
      "El numero no es positivo\n",
      "El número no es un entero\n",
      "120\n"
     ]
    }
   ],
   "source": [
    "print(factorial(0))\n",
    "print(factorial(-5))\n",
    "print(factorial(2.3))\n",
    "print(factorial(5))"
   ]
  }
 ],
 "metadata": {
  "interpreter": {
   "hash": "c85384e4cb51c8b72350f3a8712cc8351fdc3955e32a27f9b60c6242ab125f01"
  },
  "kernelspec": {
   "display_name": "Python 3 (ipykernel)",
   "language": "python",
   "name": "python3"
  },
  "language_info": {
   "codemirror_mode": {
    "name": "ipython",
    "version": 3
   },
   "file_extension": ".py",
   "mimetype": "text/x-python",
   "name": "python",
   "nbconvert_exporter": "python",
   "pygments_lexer": "ipython3",
   "version": "3.12.2"
  }
 },
 "nbformat": 4,
 "nbformat_minor": 4
}
