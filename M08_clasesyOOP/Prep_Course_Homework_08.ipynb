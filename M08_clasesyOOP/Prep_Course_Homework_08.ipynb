{
 "cells": [
  {
   "attachments": {},
   "cell_type": "markdown",
   "metadata": {},
   "source": [
    "## Clases y Programación Orientada a Objetos"
   ]
  },
  {
   "attachments": {},
   "cell_type": "markdown",
   "metadata": {},
   "source": [
    "1) Crear la clase vehículo que contenga los atributos:<br>\n",
    "Color<br>\n",
    "Si es moto, auto, camioneta ó camión<br>\n",
    "Cilindrada del motor"
   ]
  },
  {
   "cell_type": "code",
   "execution_count": 142,
   "metadata": {},
   "outputs": [],
   "source": [
    "class Vehiculo():\n",
    "    def __init__(self, color, tipo, cilindrada):\n",
    "        self.color = color\n",
    "        self.tipo = tipo\n",
    "        self.cilindrada = cilindrada"
   ]
  },
  {
   "attachments": {},
   "cell_type": "markdown",
   "metadata": {},
   "source": [
    "2) A la clase Vehiculo creada en el punto 1, agregar los siguientes métodos:<br>\n",
    "Acelerar<br>\n",
    "Frenar<br>\n",
    "Doblar<br>"
   ]
  },
  {
   "cell_type": "code",
   "execution_count": 143,
   "metadata": {},
   "outputs": [],
   "source": [
    "class Vehiculo():\n",
    "    def __init__(self, color, tipo, cilindrada):\n",
    "        self.color = color\n",
    "        self.tipo = tipo\n",
    "        self.cilindrada = cilindrada\n",
    "        self.velocidad = 0\n",
    "        self.direccion = 0\n",
    "\n",
    "    def acelerar(self, velocidad):\n",
    "        self.velocidad += velocidad\n",
    "\n",
    "    def frenar(self,velocidad):\n",
    "        self.velocidad -= velocidad\n",
    "    \n",
    "    def doblar(self, direccion):\n",
    "        self.direccion += direccion"
   ]
  },
  {
   "attachments": {},
   "cell_type": "markdown",
   "metadata": {},
   "source": [
    "3) Instanciar 3 objetos de la clase vehículo y ejecutar sus métodos, probar luego el resultado"
   ]
  },
  {
   "cell_type": "code",
   "execution_count": 144,
   "metadata": {},
   "outputs": [],
   "source": [
    "auto = Vehiculo(\"rojo\",\"auto\",1600)\n",
    "moto = Vehiculo(\"negra\", \"motocicleta\", 125)\n",
    "camion = Vehiculo(\"azul\", \"camion\" , 5000)\n"
   ]
  },
  {
   "cell_type": "code",
   "execution_count": 145,
   "metadata": {},
   "outputs": [],
   "source": [
    "auto.acelerar(50)\n",
    "moto.acelerar(60)\n",
    "camion.acelerar(80)"
   ]
  },
  {
   "cell_type": "code",
   "execution_count": 146,
   "metadata": {},
   "outputs": [],
   "source": [
    "auto.frenar(15)\n",
    "moto.frenar(5)\n",
    "camion.frenar(20)"
   ]
  },
  {
   "cell_type": "code",
   "execution_count": 147,
   "metadata": {},
   "outputs": [],
   "source": [
    "moto.doblar(23)\n",
    "auto.doblar(12)\n",
    "camion.doblar(90)"
   ]
  },
  {
   "attachments": {},
   "cell_type": "markdown",
   "metadata": {},
   "source": [
    "4) Agregar a la clase Vehiculo, un método que muestre su estado, es decir, a que velocidad se encuentra y su dirección. Y otro método que muestre color, tipo y cilindrada"
   ]
  },
  {
   "cell_type": "code",
   "execution_count": 148,
   "metadata": {},
   "outputs": [],
   "source": [
    "class Vehiculo():\n",
    "    def __init__(self, color, tipo, cilindrada):\n",
    "        self.color = color\n",
    "        self.tipo = tipo\n",
    "        self.cilindrada = cilindrada\n",
    "        self.velocidad = 0\n",
    "        self.direccion = 0\n",
    "\n",
    "    def acelerar(self, velocidad):\n",
    "        self.velocidad += velocidad\n",
    "\n",
    "    def frenar(self,velocidad):\n",
    "        self.velocidad -= velocidad\n",
    "    \n",
    "    def doblar(self, direccion):\n",
    "        self.direccion += direccion\n",
    "\n",
    "    def estado(self):\n",
    "     print(\"El\", self.tipo, \"va a\", self.velocidad, \"Km/h y su dirección es\", self.direccion, \"grados\")\n",
    "\n",
    "    def __str__(self):\n",
    "        return f\"{self.tipo} de color {self.color} y cilindrada: {self.cilindrada}\""
   ]
  },
  {
   "cell_type": "code",
   "execution_count": 149,
   "metadata": {},
   "outputs": [],
   "source": [
    "auto = Vehiculo(\"rojo\",\"auto\",\"1600 cc\")\n",
    "moto = Vehiculo(\"negra\", \"motocicleta\", \"125 cc\")\n",
    "camion = Vehiculo(\"azul\", \"camion\" , \"5000 cc\")"
   ]
  },
  {
   "cell_type": "code",
   "execution_count": 150,
   "metadata": {},
   "outputs": [
    {
     "name": "stdout",
     "output_type": "stream",
     "text": [
      "auto de color rojo y cilindrada: 1600 cc\n"
     ]
    }
   ],
   "source": [
    "print(auto)"
   ]
  },
  {
   "cell_type": "code",
   "execution_count": 151,
   "metadata": {},
   "outputs": [
    {
     "name": "stdout",
     "output_type": "stream",
     "text": [
      "El auto va a 0 Km/h y su dirección es 0 grados\n",
      "El auto va a 40 Km/h y su dirección es 90 grados\n"
     ]
    }
   ],
   "source": [
    "auto.estado()\n",
    "auto.acelerar(50)\n",
    "auto.frenar(10)\n",
    "auto.doblar(90)\n",
    "auto.estado()"
   ]
  },
  {
   "attachments": {},
   "cell_type": "markdown",
   "metadata": {},
   "source": [
    "5) Crear una clase que permita utilizar las funciones creadas en la práctica del módulo 7<br>\n",
    "Verificar Primo<br>\n",
    "Valor modal<br>\n",
    "Conversión grados<br>\n",
    "Factorial<br>"
   ]
  },
  {
   "cell_type": "code",
   "execution_count": 159,
   "metadata": {},
   "outputs": [],
   "source": [
    "class Herramientas:\n",
    "    def __init_(self):\n",
    "         pass\n",
    "    \n",
    "    def verifica_primo (self, numero):\n",
    "      es_primo = True\n",
    "      for i in range(2,numero):\n",
    "        if numero % i ==0:\n",
    "          es_primo = False\n",
    "          return es_primo\n",
    "\n",
    "    def numero_repetido(self,lista):\n",
    "      lista_unicos=[]\n",
    "      lista_repetidos=[]\n",
    "      if len(lista) == 0:\n",
    "         return None\n",
    "      for elemento in lista:\n",
    "        if elemento in lista_unicos:\n",
    "            i= lista_unicos.index(elemento)\n",
    "            lista_repetidos[i] += 1\n",
    "        else:\n",
    "            lista_unicos.append(elemento)\n",
    "            lista_repetidos.append(1)\n",
    "            numero_rep= lista_unicos[0]\n",
    "            cantidad_rep= lista_repetidos[0]\n",
    "      for i, elemento in enumerate(lista_unicos):\n",
    "        if lista_repetidos[i] > cantidad_rep:\n",
    "            numero_rep= lista_unicos[i]\n",
    "            cantidad_rep= lista_repetidos [i]\n",
    "            return numero_rep, cantidad_rep\n",
    "    \n",
    "    def convertidor_grados(self, valor, medida_origen, medida_destino):\n",
    "      if medida_origen == \"celsius\":\n",
    "        if medida_destino == \"celsius\":\n",
    "            valor_final= valor\n",
    "        elif medida_destino == \"farenheit\":\n",
    "            valor_final = (valor * 9/5) + 32\n",
    "        elif medida_destino == \"kelvin\":\n",
    "            valor_final =valor + 273.15 \n",
    "        else: \n",
    "            print (\"Parametro incorrecto\")\n",
    "      if medida_origen == \"farenheit\":\n",
    "        if medida_destino == \"farenheit\":\n",
    "            valor_final = valor\n",
    "        elif medida_destino == \"celsius\":\n",
    "            valor_final = (valor - 32) * 9/5\n",
    "        elif medida_destino == \"kelvin\":\n",
    "            valor_final= (valor - 32 * 9/5) + 273.15\n",
    "        else:\n",
    "            print (\"Parametro incorrecto\")\n",
    "      if medida_origen == \"kelvin\":\n",
    "        if medida_destino== \"kelvin\":\n",
    "            valor_final= valor\n",
    "        elif medida_destino == \"celsius\":\n",
    "            valor_final= valor - 273.15\n",
    "        elif medida_destino == \"farenheit\":\n",
    "            valor_final= (valor - 273.15 * 9/ 5 ) + 32\n",
    "        else:\n",
    "            print (\"Parametro incorrecto\")\n",
    "            \n",
    "      return valor_final\n",
    "\n",
    "    def factorial(self, numero):\n",
    "      if type(numero) != int:\n",
    "        return \"El número no es un entero\"\n",
    "      if numero < 0:\n",
    "        return \"El numero no es positivo\"\n",
    "      if numero <= 1:\n",
    "        return 1\n",
    "      numero = numero * self.factorial(numero - 1)\n",
    "      return numero\n",
    "    \n",
    "    \n",
    "    \n",
    "\n",
    "\n",
    "        "
   ]
  },
  {
   "cell_type": "code",
   "execution_count": 161,
   "metadata": {},
   "outputs": [],
   "source": [
    "h = Herramientas()"
   ]
  },
  {
   "attachments": {},
   "cell_type": "markdown",
   "metadata": {},
   "source": [
    "6) Probar las funciones incorporadas en la clase del punto 5"
   ]
  },
  {
   "cell_type": "code",
   "execution_count": 154,
   "metadata": {},
   "outputs": [
    {
     "data": {
      "text/plain": [
       "120"
      ]
     },
     "execution_count": 154,
     "metadata": {},
     "output_type": "execute_result"
    }
   ],
   "source": [
    "h.factorial(5)"
   ]
  },
  {
   "cell_type": "code",
   "execution_count": 162,
   "metadata": {},
   "outputs": [
    {
     "name": "stdout",
     "output_type": "stream",
     "text": [
      "El numero que mas se repite es 3 y la veces que se repite son 4 veces\n"
     ]
    }
   ],
   "source": [
    "lista1 =[1,2,3,3,3,3,4,5]\n",
    "numero_rep , cantidad_rep = h.numero_repetido(lista1)\n",
    "print (f\"El numero que mas se repite es {numero_rep} y la veces que se repite son {cantidad_rep} veces\")"
   ]
  },
  {
   "cell_type": "code",
   "execution_count": null,
   "metadata": {},
   "outputs": [
    {
     "data": {
      "text/plain": [
       "-253.14999999999998"
      ]
     },
     "execution_count": 26,
     "metadata": {},
     "output_type": "execute_result"
    }
   ],
   "source": [
    "h.convertidor_grados(20,\"kelvin\", \"celsius\")"
   ]
  },
  {
   "cell_type": "code",
   "execution_count": null,
   "metadata": {},
   "outputs": [
    {
     "data": {
      "text/plain": [
       "False"
      ]
     },
     "execution_count": 27,
     "metadata": {},
     "output_type": "execute_result"
    }
   ],
   "source": [
    "h.verifica_primo(6)"
   ]
  },
  {
   "attachments": {},
   "cell_type": "markdown",
   "metadata": {},
   "source": [
    "7) Es necesario que la clase creada en el punto 5 contenga una lista, sobre la cual se apliquen las funciones incorporadas"
   ]
  },
  {
   "cell_type": "code",
   "execution_count": 199,
   "metadata": {},
   "outputs": [],
   "source": [
    "class Herramientas:\n",
    "    def __init__(self, lista_numeros):\n",
    "             self.lista = lista_numeros\n",
    "\n",
    "    def verifica_primo(self):\n",
    "        for i in self.lista:\n",
    "            if (self.__verifica_primo(i)):\n",
    "                print('El elemento', i, 'SI es un numero primo')\n",
    "            else:\n",
    "                print('El elemento', i, 'NO es un numero primo') \n",
    "\n",
    "    def convertidor_grados(self, origen, destino):\n",
    "       for i in self.lista:\n",
    "          print(f\"{i} grados son {self.__convertidor_grados(i,origen,destino)} {origen}\")\n",
    "\n",
    "    def factorial(self):\n",
    "       for i in self.lista:\n",
    "          print(\"El factorial de\",i, \"es\",self.__factorial(i))\n",
    "        \n",
    "    def __verifica_primo (self, numero):\n",
    "        es_primo = True\n",
    "        for i in range(2,numero):\n",
    "         if numero % i ==0:\n",
    "          es_primo = False\n",
    "        return es_primo\n",
    "\n",
    "    def numero_repetido(self,menor ):\n",
    "      lista_unicos=[]\n",
    "      lista_repetidos=[]\n",
    "      if len(self.lista) == 0:\n",
    "         return None\n",
    "      for elemento in self.lista:\n",
    "        if elemento in lista_unicos:\n",
    "            i= lista_unicos.index(elemento)\n",
    "            lista_repetidos[i] += 1\n",
    "        else:\n",
    "            lista_unicos.append(elemento)\n",
    "            lista_repetidos.append(1)\n",
    "            numero_rep= lista_unicos[0]\n",
    "            cantidad_rep= lista_repetidos[0]\n",
    "      for i, elemento in enumerate(lista_unicos):\n",
    "        if lista_repetidos[i] > cantidad_rep:\n",
    "            numero_rep= lista_unicos[i]\n",
    "            cantidad_rep= lista_repetidos [i]\n",
    "            return numero_rep, cantidad_rep\n",
    "    \n",
    "    def __convertidor_grados(self, valor, medida_origen, medida_destino):\n",
    "      if medida_origen == \"celsius\":\n",
    "        if medida_destino == \"celsius\":\n",
    "            valor_final= valor\n",
    "        elif medida_destino == \"farenheit\":\n",
    "            valor_final = (valor * 9/5) + 32\n",
    "        elif medida_destino == \"kelvin\":\n",
    "            valor_final =valor + 273.15 \n",
    "        else: \n",
    "            print (\"Parametro incorrecto\")\n",
    "      if medida_origen == \"farenheit\":\n",
    "        if medida_destino == \"farenheit\":\n",
    "            valor_final = valor\n",
    "        elif medida_destino == \"celsius\":\n",
    "            valor_final = (valor - 32) * 9/5\n",
    "        elif medida_destino == \"kelvin\":\n",
    "            valor_final= (valor - 32 * 9/5) + 273.15\n",
    "        else:\n",
    "            print (\"Parametro incorrecto\")\n",
    "      if medida_origen == \"kelvin\":\n",
    "        if medida_destino== \"kelvin\":\n",
    "            valor_final= valor\n",
    "        elif medida_destino == \"celsius\":\n",
    "            valor_final= valor - 273.15\n",
    "        elif medida_destino == \"farenheit\":\n",
    "            valor_final= (valor - 273.15 * 9/ 5 ) + 32\n",
    "        else:\n",
    "            print (\"Parametro incorrecto\")\n",
    "            \n",
    "      return valor_final\n",
    "\n",
    "    def __factorial(self, numero):\n",
    "      if type(numero) != int:\n",
    "        return \"El número no es un entero\"\n",
    "      if numero < 0:\n",
    "        return \"El numero no es positivo\"\n",
    "      if numero <= 1:\n",
    "        return 1\n",
    "      numero = numero * self.__factorial(numero - 1)\n",
    "      return numero"
   ]
  },
  {
   "cell_type": "code",
   "execution_count": 200,
   "metadata": {},
   "outputs": [],
   "source": [
    "h = Herramientas([1,2,3,3,3,3,5,6,7,8,9,20])"
   ]
  },
  {
   "cell_type": "code",
   "execution_count": 201,
   "metadata": {},
   "outputs": [
    {
     "name": "stdout",
     "output_type": "stream",
     "text": [
      "1 grados son 274.15 celsius\n",
      "2 grados son 275.15 celsius\n",
      "3 grados son 276.15 celsius\n",
      "3 grados son 276.15 celsius\n",
      "3 grados son 276.15 celsius\n",
      "3 grados son 276.15 celsius\n",
      "5 grados son 278.15 celsius\n",
      "6 grados son 279.15 celsius\n",
      "7 grados son 280.15 celsius\n",
      "8 grados son 281.15 celsius\n",
      "9 grados son 282.15 celsius\n",
      "20 grados son 293.15 celsius\n"
     ]
    }
   ],
   "source": [
    "h.convertidor_grados(\"celsius\",\"kelvin\")"
   ]
  },
  {
   "cell_type": "code",
   "execution_count": 202,
   "metadata": {},
   "outputs": [
    {
     "name": "stdout",
     "output_type": "stream",
     "text": [
      "El elemento 1 SI es un numero primo\n",
      "El elemento 2 SI es un numero primo\n",
      "El elemento 3 SI es un numero primo\n",
      "El elemento 3 SI es un numero primo\n",
      "El elemento 3 SI es un numero primo\n",
      "El elemento 3 SI es un numero primo\n",
      "El elemento 5 SI es un numero primo\n",
      "El elemento 6 NO es un numero primo\n",
      "El elemento 7 SI es un numero primo\n",
      "El elemento 8 NO es un numero primo\n",
      "El elemento 9 NO es un numero primo\n",
      "El elemento 20 NO es un numero primo\n"
     ]
    }
   ],
   "source": [
    "h.verifica_primo()"
   ]
  },
  {
   "cell_type": "code",
   "execution_count": 203,
   "metadata": {},
   "outputs": [
    {
     "name": "stdout",
     "output_type": "stream",
     "text": [
      "El factorial de 1 es 1\n",
      "El factorial de 2 es 2\n",
      "El factorial de 3 es 6\n",
      "El factorial de 3 es 6\n",
      "El factorial de 3 es 6\n",
      "El factorial de 3 es 6\n",
      "El factorial de 5 es 120\n",
      "El factorial de 6 es 720\n",
      "El factorial de 7 es 5040\n",
      "El factorial de 8 es 40320\n",
      "El factorial de 9 es 362880\n",
      "El factorial de 20 es 2432902008176640000\n"
     ]
    }
   ],
   "source": [
    "h.factorial()"
   ]
  },
  {
   "cell_type": "code",
   "execution_count": 205,
   "metadata": {},
   "outputs": [
    {
     "name": "stdout",
     "output_type": "stream",
     "text": [
      "El numero repetido es 3 y se repite 4 veces\n"
     ]
    }
   ],
   "source": [
    "numero_rep , cantidad_rep = h.numero_repetido(False)\n",
    "print(f\"El numero repetido es {numero_rep} y se repite {cantidad_rep} veces\")"
   ]
  },
  {
   "attachments": {},
   "cell_type": "markdown",
   "metadata": {},
   "source": [
    "8) Crear un archivo .py aparte y ubicar allí la clase generada en el punto anterior. Luego realizar la importación del módulo y probar alguna de sus funciones"
   ]
  },
  {
   "cell_type": "code",
   "execution_count": 227,
   "metadata": {},
   "outputs": [],
   "source": [
    "from Herramientas_Alushi import *"
   ]
  },
  {
   "cell_type": "code",
   "execution_count": 230,
   "metadata": {},
   "outputs": [],
   "source": [
    "h2 = Herramientas([1,2,3,5,6,7,8,9,4,20])"
   ]
  },
  {
   "cell_type": "code",
   "execution_count": 231,
   "metadata": {},
   "outputs": [
    {
     "name": "stdout",
     "output_type": "stream",
     "text": [
      "1 grados son 33.8 celsius\n",
      "2 grados son 35.6 celsius\n",
      "3 grados son 37.4 celsius\n",
      "5 grados son 41.0 celsius\n",
      "6 grados son 42.8 celsius\n",
      "7 grados son 44.6 celsius\n",
      "8 grados son 46.4 celsius\n",
      "9 grados son 48.2 celsius\n",
      "4 grados son 39.2 celsius\n",
      "20 grados son 68.0 celsius\n"
     ]
    }
   ],
   "source": [
    "h2.convertidor_grados(\"celsius\", \"farenheit\")"
   ]
  }
 ],
 "metadata": {
  "interpreter": {
   "hash": "c85384e4cb51c8b72350f3a8712cc8351fdc3955e32a27f9b60c6242ab125f01"
  },
  "kernelspec": {
   "display_name": "Python 3 (ipykernel)",
   "language": "python",
   "name": "python3"
  },
  "language_info": {
   "codemirror_mode": {
    "name": "ipython",
    "version": 3
   },
   "file_extension": ".py",
   "mimetype": "text/x-python",
   "name": "python",
   "nbconvert_exporter": "python",
   "pygments_lexer": "ipython3",
   "version": "3.12.2"
  }
 },
 "nbformat": 4,
 "nbformat_minor": 4
}
